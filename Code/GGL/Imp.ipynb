{
 "cells": [
  {
   "cell_type": "code",
   "execution_count": 1,
   "metadata": {},
   "outputs": [],
   "source": [
    "import torch\n",
    "import torchvision\n",
    "import torchvision.transforms as T\n",
    "\n",
    "import numpy as np\n",
    "import matplotlib.pyplot as plt\n",
    "from collections import defaultdict\n",
    "from PIL import Image\n",
    "import copy\n",
    "from tqdm import tqdm\n",
    "import nevergrad as ng\n",
    "import lpips"
   ]
  },
  {
   "cell_type": "code",
   "execution_count": 2,
   "metadata": {},
   "outputs": [
    {
     "name": "stdout",
     "output_type": "stream",
     "text": [
      "1.13.1\n"
     ]
    }
   ],
   "source": [
    "print(torch.__version__)"
   ]
  },
  {
   "cell_type": "code",
   "execution_count": 3,
   "metadata": {},
   "outputs": [],
   "source": [
    "import os\n",
    "os.environ[\"cuda_visible_devices\"]='1'"
   ]
  },
  {
   "cell_type": "markdown",
   "metadata": {},
   "source": [
    "# Choose variants here:"
   ]
  },
  {
   "cell_type": "code",
   "execution_count": 4,
   "metadata": {},
   "outputs": [],
   "source": [
    "trained_model = False\n",
    "arch = 'ResNet18'"
   ]
  },
  {
   "cell_type": "markdown",
   "metadata": {},
   "source": [
    "## System setup:"
   ]
  },
  {
   "cell_type": "code",
   "execution_count": 5,
   "metadata": {},
   "outputs": [
    {
     "name": "stdout",
     "output_type": "stream",
     "text": [
      "Currently evaluating -------------------------------:\n",
      "Sunday, 16. April 2023 04:22PM\n",
      "CPUs: 8, GPUs: 0 on Ms-MacBook-Air.iith.ac.in.\n"
     ]
    },
    {
     "name": "stderr",
     "output_type": "stream",
     "text": [
      "/opt/homebrew/lib/python3.10/site-packages/torchvision/models/_utils.py:208: UserWarning: The parameter 'pretrained' is deprecated since 0.13 and may be removed in the future, please use 'weights' instead.\n",
      "  warnings.warn(\n",
      "/opt/homebrew/lib/python3.10/site-packages/torchvision/models/_utils.py:223: UserWarning: Arguments other than a weight enum or `None` for 'weights' are deprecated since 0.13 and may be removed in the future. The current behavior is equivalent to passing `weights=None`.\n",
      "  warnings.warn(msg)\n"
     ]
    }
   ],
   "source": [
    "import inversefed\n",
    "setup = inversefed.utils.system_startup()\n",
    "defs = inversefed.training_strategy('conservative')\n",
    "\n",
    "loss_fn, trainloader, validloader =  inversefed.construct_dataloaders('CelebA-64', defs, \n",
    "                                                                      data_path='/Users/manandkrishna/Documents/s2/VisualComputing/GGL')\n",
    "\n",
    "model = torchvision.models.resnet18(pretrained=trained_model)\n",
    "model.to(**setup)\n",
    "model.eval();"
   ]
  },
  {
   "cell_type": "code",
   "execution_count": 6,
   "metadata": {},
   "outputs": [],
   "source": [
    "dm = torch.as_tensor([0.5, 0.5, 0.5], **setup)[:, None, None]\n",
    "ds = torch.as_tensor([0.5, 0.5, 0.5], **setup)[:, None, None]\n",
    "def plot(tensor):\n",
    "    # define transformt o resize the image with given size\n",
    "    transform = T.Resize(size = (64,64))\n",
    "    tensor = tensor.clone().detach()\n",
    "    tensor.mul_(ds).add_(dm).clamp_(0, 1)\n",
    "    tensor = transform(tensor)\n",
    "    if tensor.shape[0] == 1:\n",
    "        return plt.imshow(tensor[0].permute(1, 2, 0).cpu());\n",
    "    else:\n",
    "        fig, axes = plt.subplots(1, tensor.shape[0], figsize=(12, tensor.shape[0]*12))\n",
    "        for i, im in enumerate(tensor):\n",
    "            axes[i].imshow(im.permute(1, 2, 0).cpu());"
   ]
  },
  {
   "cell_type": "code",
   "execution_count": null,
   "metadata": {},
   "outputs": [],
   "source": [
    "dm = torch.as_tensor([0.5, 0.5, 0.5])[:, None, None]\n",
    "ds = torch.as_tensor([0.5, 0.5, 0.5])[:, None, None]\n",
    "\n",
    "def plot1(tensor):\n",
    "    # Define transforms to resize and crop the image\n",
    "    resize_transform = T.Resize(size=(256, 256))\n",
    "    five_crop_transform = T.FiveCrop(size=(128, 256))  # Get five crops (top-left, top-right, bottom-left, bottom-right, and center)\n",
    "    \n",
    "    tensor = tensor.clone().detach()\n",
    "    tensor.mul_(ds).add_(dm).clamp_(0, 1)\n",
    "    tensor = resize_transform(tensor)\n",
    "    \n",
    "    # Apply FiveCrop and select the top center crop (average of top-left and top-right crops)\n",
    "    crops = five_crop_transform(tensor)\n",
    "    top_center_crop = (crops[0] + crops[1]) / 2\n",
    "    \n",
    "    if tensor.shape[0] == 1:\n",
    "        return plt.imshow(top_center_crop[0].permute(1, 2, 0).cpu());\n",
    "    else:\n",
    "        fig, axes = plt.subplots(1, tensor.shape[0], figsize=(12, tensor.shape[0]*12))\n",
    "        for i, im in enumerate(top_center_crop):\n",
    "            axes[i].imshow(im.permute(1, 2, 0).cpu());"
   ]
  },
  {
   "cell_type": "markdown",
   "metadata": {},
   "source": [
    "## BigGAN model"
   ]
  },
  {
   "cell_type": "code",
   "execution_count": 7,
   "metadata": {},
   "outputs": [],
   "source": [
    "from pytorch_pretrained_biggan import (BigGAN, one_hot_from_names, truncated_noise_sample,\n",
    "                                       save_as_images, display_in_terminal, convert_to_images)"
   ]
  },
  {
   "cell_type": "code",
   "execution_count": 8,
   "metadata": {},
   "outputs": [
    {
     "name": "stdout",
     "output_type": "stream",
     "text": [
      "cpu\n"
     ]
    }
   ],
   "source": [
    "# Load pre-trained model tokenizer (vocabulary)\n",
    "generator= BigGAN.from_pretrained('biggan-deep-256').to(setup['device'])\n",
    "\n",
    "print(setup['device'])"
   ]
  },
  {
   "cell_type": "markdown",
   "metadata": {},
   "source": [
    "# Reconstruct"
   ]
  },
  {
   "cell_type": "markdown",
   "metadata": {},
   "source": [
    "### Build the input (ground-truth) gradient"
   ]
  },
  {
   "cell_type": "code",
   "execution_count": 9,
   "metadata": {},
   "outputs": [
    {
     "name": "stdout",
     "output_type": "stream",
     "text": [
      "19962\n"
     ]
    },
    {
     "data": {
      "image/png": "[encoded data removed]",
      "text/plain": [
       "<Figure size 640x480 with 1 Axes>"
      ]
     },
     "metadata": {},
     "output_type": "display_data"
    }
   ],
   "source": [
    "idx = 6565\n",
    "img, label = validloader.dataset[idx] \n",
    "im1,_ = validloader.dataset[4] \n",
    "labels = torch.as_tensor((label,), device=setup['device'])\n",
    "ground_truth = img.to(**setup).unsqueeze(0)\n",
    "xtest=im1.to(**setup).unsqueeze(0)\n",
    "plot(ground_truth)\n",
    "#print([trainloader.dataset.classes[l] for l in labels]);\n",
    "print(len(validloader.dataset))"
   ]
  },
  {
   "cell_type": "code",
   "execution_count": 10,
   "metadata": {},
   "outputs": [],
   "source": [
    "ground_truth_denormalized = torch.clamp(ground_truth * ds + dm, 0, 1)\n",
    "# torchvision.utils.save_image(ground_truth_denormalized, f'{idx}_{arch}_ImageNet_input.png')"
   ]
  },
  {
   "cell_type": "code",
   "execution_count": 11,
   "metadata": {},
   "outputs": [
    {
     "name": "stdout",
     "output_type": "stream",
     "text": [
      "Full gradient norm is 7.873246e-01.\n",
      "tensor(7.0215, grad_fn=<NllLossBackward0>)\n"
     ]
    }
   ],
   "source": [
    "model.zero_grad()\n",
    "target_loss, _, _ = loss_fn(model(ground_truth), labels)\n",
    "input_gradient = torch.autograd.grad(target_loss, model.parameters())\n",
    "input_gradient = [grad.detach() for grad in input_gradient]\n",
    "full_norm = torch.stack([g.norm() for g in input_gradient]).mean()\n",
    "print(f'Full gradient norm is {full_norm:e}.')\n",
    "print(target_loss)"
   ]
  },
  {
   "cell_type": "markdown",
   "metadata": {},
   "source": [
    "# Reconstruction"
   ]
  },
  {
   "cell_type": "code",
   "execution_count": 12,
   "metadata": {},
   "outputs": [],
   "source": [
    "import nevergrad as ng\n",
    "from reconstructor import AdamReconstructor"
   ]
  },
  {
   "cell_type": "code",
   "execution_count": null,
   "metadata": {},
   "outputs": [],
   "source": [
    "ng_rec = AdamReconstructor(fl_model=model, generator=generator, loss_fn=loss_fn,\n",
    "                                     num_classes=1000, search_dim=(128,),lr=0.01, strategy='Adam', budget=2500, use_tanh=True, use_weight=False, defense_setting=None)\n",
    "z_res, x_res, img_res, loss_res = ng_rec.reconstruct(input_gradient)"
   ]
  },
  {
   "cell_type": "code",
   "execution_count": null,
   "metadata": {},
   "outputs": [],
   "source": [
    "plot1(x_res)"
   ]
  },
  {
   "cell_type": "code",
   "execution_count": null,
   "metadata": {},
   "outputs": [],
   "source": [
    "ng_rec = AdamReconstructor(fl_model=model, generator=generator, loss_fn=loss_fn,\n",
    "                                     num_classes=1000, search_dim=(128,),lr=0.01, strategy='Adam', budget=1000, use_tanh=True, use_weight=False, defense_setting='quantize_gradient')\n",
    "z_res, x_res, img_res, loss_res = ng_rec.reconstruct(input_gradient)"
   ]
  },
  {
   "cell_type": "code",
   "execution_count": null,
   "metadata": {},
   "outputs": [],
   "source": [
    "plot(x_res)"
   ]
  },
  {
   "cell_type": "markdown",
   "metadata": {},
   "source": [
    "## Reconstruction with quantized gradients as defense setting -Novelty"
   ]
  },
  {
   "cell_type": "code",
   "execution_count": 13,
   "metadata": {},
   "outputs": [],
   "source": [
    "import nevergrad as ng\n",
    "from reconstructor import NGReconstructor"
   ]
  },
  {
   "cell_type": "code",
   "execution_count": 14,
   "metadata": {
    "scrolled": true
   },
   "outputs": [
    {
     "name": "stdout",
     "output_type": "stream",
     "text": [
      "Inferred label: tensor([1])\n"
     ]
    },
    {
     "name": "stderr",
     "output_type": "stream",
     "text": [
      "Loss 0.314519: 100%|██████████████████████| 500/500 [16:55:30<00:00, 121.86s/it]\n"
     ]
    }
   ],
   "source": [
    "ng_rec = NGReconstructor(fl_model=model, generator=generator, loss_fn=loss_fn,\n",
    "                                     num_classes=1000, search_dim=(128,), strategy='CMA', budget=500, use_tanh=True, defense_setting={'quantize_gradient'})\n",
    "z_res, x_res, img_res, loss_res = ng_rec.reconstruct(input_gradient)"
   ]
  },
  {
   "cell_type": "code",
   "execution_count": 15,
   "metadata": {},
   "outputs": [
    {
     "data": {
      "text/plain": [
       "<matplotlib.image.AxesImage at 0x2821c25f0>"
      ]
     },
     "execution_count": 15,
     "metadata": {},
     "output_type": "execute_result"
    },
    {
     "data": {
      "image/png": "[encoded data removed]",
      "text/plain": [
       "<Figure size 640x480 with 1 Axes>"
      ]
     },
     "metadata": {},
     "output_type": "display_data"
    }
   ],
   "source": [
    "plot(x_res)"
   ]
  },
  {
   "cell_type": "markdown",
   "metadata": {},
   "source": [
    "# Added Gradient Pruning - Novelty"
   ]
  },
  {
   "cell_type": "code",
   "execution_count": null,
   "metadata": {},
   "outputs": [],
   "source": [
    "ng_rec = NGReconstructor(fl_model=model, generator=generator, loss_fn=loss_fn,\n",
    "                                     num_classes=1000, search_dim=(128,), strategy='CMA', budget=500, use_tanh=True, defense_setting='pruning')\n",
    "z_res, x_res1, img_res, loss_res = ng_rec.reconstruct(input_gradient)"
   ]
  },
  {
   "cell_type": "markdown",
   "metadata": {},
   "source": [
    "## Reconstruction Authors method failed by my gradient pruning"
   ]
  },
  {
   "cell_type": "code",
   "execution_count": null,
   "metadata": {},
   "outputs": [],
   "source": [
    "plot(xtest)"
   ]
  },
  {
   "cell_type": "code",
   "execution_count": null,
   "metadata": {},
   "outputs": [],
   "source": [
    "original_img = ground_truth.mul_(ds).add_(dm).clamp_(0, 1).mul_(255).permute(0, 2, 3, 1).clamp(0, 255).to(torch.uint8)[0].cpu().numpy()\n",
    "res_img = x_res.mul_(ds).add_(dm).clamp_(0, 1).mul_(255).permute(0, 2, 3, 1).clamp(0, 255).to(torch.uint8)[0].cpu().numpy()\n",
    "plt.imsave(os.path.join('out/', 'original.png'), original_img)\n",
    "plt.imsave(os.path.join('out/', 'GAN_out.png'), res_img)"
   ]
  },
  {
   "cell_type": "code",
   "execution_count": null,
   "metadata": {},
   "outputs": [],
   "source": []
  },
  {
   "cell_type": "code",
   "execution_count": null,
   "metadata": {},
   "outputs": [],
   "source": []
  }
 ],
 "metadata": {
  "kernelspec": {
   "display_name": "Python 3 (ipykernel)",
   "language": "python",
   "name": "python3"
  },
  "language_info": {
   "codemirror_mode": {
    "name": "ipython",
    "version": 3
   },
   "file_extension": ".py",
   "mimetype": "text/x-python",
   "name": "python",
   "nbconvert_exporter": "python",
   "pygments_lexer": "ipython3",
   "version": "3.10.10"
  },
  "vscode": {
   "interpreter": {
    "hash": "bd385fe162c5ca0c84973b7dd5c518456272446b2b64e67c2a69f949ca7a1754"
   }
  }
 },
 "nbformat": 4,
 "nbformat_minor": 4
}
